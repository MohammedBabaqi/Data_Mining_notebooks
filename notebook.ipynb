{
 "cells": [
  {
   "cell_type": "code",
   "execution_count": 44,
   "id": "003a186d",
   "metadata": {},
   "outputs": [],
   "source": [
    "import pandas as pd\n",
    "import numpy as np\n",
    "import matplotlib.pyplot as plt\n",
    "import seaborn as sns\n",
    "from sklearn.model_selection import train_test_split\n",
    "from sklearn.ensemble import RandomForestClassifier\n",
    "from sklearn.metrics import classification_report, accuracy_score\n",
    "from sklearn.ensemble import RandomForestRegressor\n",
    "from sklearn.metrics import mean_squared_error, r2_score\n",
    "from sklearn.preprocessing import StandardScaler\n",
    "from sklearn.cluster import KMeans\n",
    "from sklearn.linear_model import LinearRegression"
   ]
  },
  {
   "cell_type": "code",
   "execution_count": 45,
   "id": "568a9217",
   "metadata": {},
   "outputs": [],
   "source": [
    "df = pd.read_csv(r'./student-por.csv', sep=';')"
   ]
  },
  {
   "cell_type": "code",
   "execution_count": 46,
   "id": "f0883035",
   "metadata": {},
   "outputs": [
    {
     "data": {
      "application/vnd.microsoft.datawrangler.viewer.v0+json": {
       "columns": [
        {
         "name": "index",
         "rawType": "int64",
         "type": "integer"
        },
        {
         "name": "school",
         "rawType": "object",
         "type": "string"
        },
        {
         "name": "sex",
         "rawType": "object",
         "type": "string"
        },
        {
         "name": "age",
         "rawType": "int64",
         "type": "integer"
        },
        {
         "name": "address",
         "rawType": "object",
         "type": "string"
        },
        {
         "name": "famsize",
         "rawType": "object",
         "type": "string"
        },
        {
         "name": "Pstatus",
         "rawType": "object",
         "type": "string"
        },
        {
         "name": "Medu",
         "rawType": "int64",
         "type": "integer"
        },
        {
         "name": "Fedu",
         "rawType": "int64",
         "type": "integer"
        },
        {
         "name": "Mjob",
         "rawType": "object",
         "type": "string"
        },
        {
         "name": "Fjob",
         "rawType": "object",
         "type": "string"
        },
        {
         "name": "reason",
         "rawType": "object",
         "type": "string"
        },
        {
         "name": "guardian",
         "rawType": "object",
         "type": "string"
        },
        {
         "name": "traveltime",
         "rawType": "int64",
         "type": "integer"
        },
        {
         "name": "studytime",
         "rawType": "int64",
         "type": "integer"
        },
        {
         "name": "failures",
         "rawType": "int64",
         "type": "integer"
        },
        {
         "name": "schoolsup",
         "rawType": "object",
         "type": "string"
        },
        {
         "name": "famsup",
         "rawType": "object",
         "type": "string"
        },
        {
         "name": "paid",
         "rawType": "object",
         "type": "string"
        },
        {
         "name": "activities",
         "rawType": "object",
         "type": "string"
        },
        {
         "name": "nursery",
         "rawType": "object",
         "type": "string"
        },
        {
         "name": "higher",
         "rawType": "object",
         "type": "string"
        },
        {
         "name": "internet",
         "rawType": "object",
         "type": "string"
        },
        {
         "name": "romantic",
         "rawType": "object",
         "type": "string"
        },
        {
         "name": "famrel",
         "rawType": "int64",
         "type": "integer"
        },
        {
         "name": "freetime",
         "rawType": "int64",
         "type": "integer"
        },
        {
         "name": "goout",
         "rawType": "int64",
         "type": "integer"
        },
        {
         "name": "Dalc",
         "rawType": "int64",
         "type": "integer"
        },
        {
         "name": "Walc",
         "rawType": "int64",
         "type": "integer"
        },
        {
         "name": "health",
         "rawType": "int64",
         "type": "integer"
        },
        {
         "name": "absences",
         "rawType": "int64",
         "type": "integer"
        },
        {
         "name": "G1",
         "rawType": "int64",
         "type": "integer"
        },
        {
         "name": "G2",
         "rawType": "int64",
         "type": "integer"
        },
        {
         "name": "G3",
         "rawType": "int64",
         "type": "integer"
        }
       ],
       "ref": "7aa56269-da2b-4176-81d3-fcc21a4039f7",
       "rows": [
        [
         "0",
         "GP",
         "F",
         "18",
         "U",
         "GT3",
         "A",
         "4",
         "4",
         "at_home",
         "teacher",
         "course",
         "mother",
         "2",
         "2",
         "0",
         "yes",
         "no",
         "no",
         "no",
         "yes",
         "yes",
         "no",
         "no",
         "4",
         "3",
         "4",
         "1",
         "1",
         "3",
         "4",
         "0",
         "11",
         "11"
        ],
        [
         "1",
         "GP",
         "F",
         "17",
         "U",
         "GT3",
         "T",
         "1",
         "1",
         "at_home",
         "other",
         "course",
         "father",
         "1",
         "2",
         "0",
         "no",
         "yes",
         "no",
         "no",
         "no",
         "yes",
         "yes",
         "no",
         "5",
         "3",
         "3",
         "1",
         "1",
         "3",
         "2",
         "9",
         "11",
         "11"
        ],
        [
         "2",
         "GP",
         "F",
         "15",
         "U",
         "LE3",
         "T",
         "1",
         "1",
         "at_home",
         "other",
         "other",
         "mother",
         "1",
         "2",
         "0",
         "yes",
         "no",
         "no",
         "no",
         "yes",
         "yes",
         "yes",
         "no",
         "4",
         "3",
         "2",
         "2",
         "3",
         "3",
         "6",
         "12",
         "13",
         "12"
        ],
        [
         "3",
         "GP",
         "F",
         "15",
         "U",
         "GT3",
         "T",
         "4",
         "2",
         "health",
         "services",
         "home",
         "mother",
         "1",
         "3",
         "0",
         "no",
         "yes",
         "no",
         "yes",
         "yes",
         "yes",
         "yes",
         "yes",
         "3",
         "2",
         "2",
         "1",
         "1",
         "5",
         "0",
         "14",
         "14",
         "14"
        ],
        [
         "4",
         "GP",
         "F",
         "16",
         "U",
         "GT3",
         "T",
         "3",
         "3",
         "other",
         "other",
         "home",
         "father",
         "1",
         "2",
         "0",
         "no",
         "yes",
         "no",
         "no",
         "yes",
         "yes",
         "no",
         "no",
         "4",
         "3",
         "2",
         "1",
         "2",
         "5",
         "0",
         "11",
         "13",
         "13"
        ]
       ],
       "shape": {
        "columns": 33,
        "rows": 5
       }
      },
      "text/html": [
       "<div>\n",
       "<style scoped>\n",
       "    .dataframe tbody tr th:only-of-type {\n",
       "        vertical-align: middle;\n",
       "    }\n",
       "\n",
       "    .dataframe tbody tr th {\n",
       "        vertical-align: top;\n",
       "    }\n",
       "\n",
       "    .dataframe thead th {\n",
       "        text-align: right;\n",
       "    }\n",
       "</style>\n",
       "<table border=\"1\" class=\"dataframe\">\n",
       "  <thead>\n",
       "    <tr style=\"text-align: right;\">\n",
       "      <th></th>\n",
       "      <th>school</th>\n",
       "      <th>sex</th>\n",
       "      <th>age</th>\n",
       "      <th>address</th>\n",
       "      <th>famsize</th>\n",
       "      <th>Pstatus</th>\n",
       "      <th>Medu</th>\n",
       "      <th>Fedu</th>\n",
       "      <th>Mjob</th>\n",
       "      <th>Fjob</th>\n",
       "      <th>...</th>\n",
       "      <th>famrel</th>\n",
       "      <th>freetime</th>\n",
       "      <th>goout</th>\n",
       "      <th>Dalc</th>\n",
       "      <th>Walc</th>\n",
       "      <th>health</th>\n",
       "      <th>absences</th>\n",
       "      <th>G1</th>\n",
       "      <th>G2</th>\n",
       "      <th>G3</th>\n",
       "    </tr>\n",
       "  </thead>\n",
       "  <tbody>\n",
       "    <tr>\n",
       "      <th>0</th>\n",
       "      <td>GP</td>\n",
       "      <td>F</td>\n",
       "      <td>18</td>\n",
       "      <td>U</td>\n",
       "      <td>GT3</td>\n",
       "      <td>A</td>\n",
       "      <td>4</td>\n",
       "      <td>4</td>\n",
       "      <td>at_home</td>\n",
       "      <td>teacher</td>\n",
       "      <td>...</td>\n",
       "      <td>4</td>\n",
       "      <td>3</td>\n",
       "      <td>4</td>\n",
       "      <td>1</td>\n",
       "      <td>1</td>\n",
       "      <td>3</td>\n",
       "      <td>4</td>\n",
       "      <td>0</td>\n",
       "      <td>11</td>\n",
       "      <td>11</td>\n",
       "    </tr>\n",
       "    <tr>\n",
       "      <th>1</th>\n",
       "      <td>GP</td>\n",
       "      <td>F</td>\n",
       "      <td>17</td>\n",
       "      <td>U</td>\n",
       "      <td>GT3</td>\n",
       "      <td>T</td>\n",
       "      <td>1</td>\n",
       "      <td>1</td>\n",
       "      <td>at_home</td>\n",
       "      <td>other</td>\n",
       "      <td>...</td>\n",
       "      <td>5</td>\n",
       "      <td>3</td>\n",
       "      <td>3</td>\n",
       "      <td>1</td>\n",
       "      <td>1</td>\n",
       "      <td>3</td>\n",
       "      <td>2</td>\n",
       "      <td>9</td>\n",
       "      <td>11</td>\n",
       "      <td>11</td>\n",
       "    </tr>\n",
       "    <tr>\n",
       "      <th>2</th>\n",
       "      <td>GP</td>\n",
       "      <td>F</td>\n",
       "      <td>15</td>\n",
       "      <td>U</td>\n",
       "      <td>LE3</td>\n",
       "      <td>T</td>\n",
       "      <td>1</td>\n",
       "      <td>1</td>\n",
       "      <td>at_home</td>\n",
       "      <td>other</td>\n",
       "      <td>...</td>\n",
       "      <td>4</td>\n",
       "      <td>3</td>\n",
       "      <td>2</td>\n",
       "      <td>2</td>\n",
       "      <td>3</td>\n",
       "      <td>3</td>\n",
       "      <td>6</td>\n",
       "      <td>12</td>\n",
       "      <td>13</td>\n",
       "      <td>12</td>\n",
       "    </tr>\n",
       "    <tr>\n",
       "      <th>3</th>\n",
       "      <td>GP</td>\n",
       "      <td>F</td>\n",
       "      <td>15</td>\n",
       "      <td>U</td>\n",
       "      <td>GT3</td>\n",
       "      <td>T</td>\n",
       "      <td>4</td>\n",
       "      <td>2</td>\n",
       "      <td>health</td>\n",
       "      <td>services</td>\n",
       "      <td>...</td>\n",
       "      <td>3</td>\n",
       "      <td>2</td>\n",
       "      <td>2</td>\n",
       "      <td>1</td>\n",
       "      <td>1</td>\n",
       "      <td>5</td>\n",
       "      <td>0</td>\n",
       "      <td>14</td>\n",
       "      <td>14</td>\n",
       "      <td>14</td>\n",
       "    </tr>\n",
       "    <tr>\n",
       "      <th>4</th>\n",
       "      <td>GP</td>\n",
       "      <td>F</td>\n",
       "      <td>16</td>\n",
       "      <td>U</td>\n",
       "      <td>GT3</td>\n",
       "      <td>T</td>\n",
       "      <td>3</td>\n",
       "      <td>3</td>\n",
       "      <td>other</td>\n",
       "      <td>other</td>\n",
       "      <td>...</td>\n",
       "      <td>4</td>\n",
       "      <td>3</td>\n",
       "      <td>2</td>\n",
       "      <td>1</td>\n",
       "      <td>2</td>\n",
       "      <td>5</td>\n",
       "      <td>0</td>\n",
       "      <td>11</td>\n",
       "      <td>13</td>\n",
       "      <td>13</td>\n",
       "    </tr>\n",
       "  </tbody>\n",
       "</table>\n",
       "<p>5 rows × 33 columns</p>\n",
       "</div>"
      ],
      "text/plain": [
       "  school sex  age address famsize Pstatus  Medu  Fedu     Mjob      Fjob  ...  \\\n",
       "0     GP   F   18       U     GT3       A     4     4  at_home   teacher  ...   \n",
       "1     GP   F   17       U     GT3       T     1     1  at_home     other  ...   \n",
       "2     GP   F   15       U     LE3       T     1     1  at_home     other  ...   \n",
       "3     GP   F   15       U     GT3       T     4     2   health  services  ...   \n",
       "4     GP   F   16       U     GT3       T     3     3    other     other  ...   \n",
       "\n",
       "  famrel freetime  goout  Dalc  Walc health absences  G1  G2  G3  \n",
       "0      4        3      4     1     1      3        4   0  11  11  \n",
       "1      5        3      3     1     1      3        2   9  11  11  \n",
       "2      4        3      2     2     3      3        6  12  13  12  \n",
       "3      3        2      2     1     1      5        0  14  14  14  \n",
       "4      4        3      2     1     2      5        0  11  13  13  \n",
       "\n",
       "[5 rows x 33 columns]"
      ]
     },
     "execution_count": 46,
     "metadata": {},
     "output_type": "execute_result"
    }
   ],
   "source": [
    "df.head()"
   ]
  },
  {
   "cell_type": "markdown",
   "id": "af4a07e5",
   "metadata": {},
   "source": [
    "## EDA"
   ]
  },
  {
   "cell_type": "code",
   "execution_count": 47,
   "id": "043fce28",
   "metadata": {},
   "outputs": [
    {
     "name": "stdout",
     "output_type": "stream",
     "text": [
      "<class 'pandas.core.frame.DataFrame'>\n",
      "RangeIndex: 649 entries, 0 to 648\n",
      "Data columns (total 33 columns):\n",
      " #   Column      Non-Null Count  Dtype \n",
      "---  ------      --------------  ----- \n",
      " 0   school      649 non-null    object\n",
      " 1   sex         649 non-null    object\n",
      " 2   age         649 non-null    int64 \n",
      " 3   address     649 non-null    object\n",
      " 4   famsize     649 non-null    object\n",
      " 5   Pstatus     649 non-null    object\n",
      " 6   Medu        649 non-null    int64 \n",
      " 7   Fedu        649 non-null    int64 \n",
      " 8   Mjob        649 non-null    object\n",
      " 9   Fjob        649 non-null    object\n",
      " 10  reason      649 non-null    object\n",
      " 11  guardian    649 non-null    object\n",
      " 12  traveltime  649 non-null    int64 \n",
      " 13  studytime   649 non-null    int64 \n",
      " 14  failures    649 non-null    int64 \n",
      " 15  schoolsup   649 non-null    object\n",
      " 16  famsup      649 non-null    object\n",
      " 17  paid        649 non-null    object\n",
      " 18  activities  649 non-null    object\n",
      " 19  nursery     649 non-null    object\n",
      " 20  higher      649 non-null    object\n",
      " 21  internet    649 non-null    object\n",
      " 22  romantic    649 non-null    object\n",
      " 23  famrel      649 non-null    int64 \n",
      " 24  freetime    649 non-null    int64 \n",
      " 25  goout       649 non-null    int64 \n",
      " 26  Dalc        649 non-null    int64 \n",
      " 27  Walc        649 non-null    int64 \n",
      " 28  health      649 non-null    int64 \n",
      " 29  absences    649 non-null    int64 \n",
      " 30  G1          649 non-null    int64 \n",
      " 31  G2          649 non-null    int64 \n",
      " 32  G3          649 non-null    int64 \n",
      "dtypes: int64(16), object(17)\n",
      "memory usage: 167.4+ KB\n"
     ]
    }
   ],
   "source": [
    "df.info()"
   ]
  },
  {
   "cell_type": "code",
   "execution_count": 48,
   "id": "ce3377fb",
   "metadata": {},
   "outputs": [
    {
     "data": {
      "text/plain": [
       "Index(['school', 'sex', 'age', 'address', 'famsize', 'Pstatus', 'Medu', 'Fedu',\n",
       "       'Mjob', 'Fjob', 'reason', 'guardian', 'traveltime', 'studytime',\n",
       "       'failures', 'schoolsup', 'famsup', 'paid', 'activities', 'nursery',\n",
       "       'higher', 'internet', 'romantic', 'famrel', 'freetime', 'goout', 'Dalc',\n",
       "       'Walc', 'health', 'absences', 'G1', 'G2', 'G3'],\n",
       "      dtype='object')"
      ]
     },
     "execution_count": 48,
     "metadata": {},
     "output_type": "execute_result"
    }
   ],
   "source": [
    "df.columns"
   ]
  },
  {
   "cell_type": "code",
   "execution_count": 49,
   "id": "cc557d51",
   "metadata": {},
   "outputs": [
    {
     "name": "stdout",
     "output_type": "stream",
     "text": [
      "school             GP\n",
      "sex                 F\n",
      "age                17\n",
      "address             U\n",
      "famsize           GT3\n",
      "Pstatus             T\n",
      "Medu                1\n",
      "Fedu                1\n",
      "Mjob          at_home\n",
      "Fjob            other\n",
      "reason         course\n",
      "guardian       father\n",
      "traveltime          1\n",
      "studytime           2\n",
      "failures            0\n",
      "schoolsup          no\n",
      "famsup            yes\n",
      "paid               no\n",
      "activities         no\n",
      "nursery            no\n",
      "higher            yes\n",
      "internet          yes\n",
      "romantic           no\n",
      "famrel              5\n",
      "freetime            3\n",
      "goout               3\n",
      "Dalc                1\n",
      "Walc                1\n",
      "health              3\n",
      "absences            2\n",
      "G1                  9\n",
      "G2                 11\n",
      "G3                 11\n",
      "Name: 1, dtype: object\n"
     ]
    }
   ],
   "source": [
    "print(df.loc[1])"
   ]
  },
  {
   "cell_type": "code",
   "execution_count": 50,
   "id": "e2a3d34b",
   "metadata": {},
   "outputs": [
    {
     "data": {
      "application/vnd.microsoft.datawrangler.viewer.v0+json": {
       "columns": [
        {
         "name": "index",
         "rawType": "object",
         "type": "string"
        },
        {
         "name": "0",
         "rawType": "int64",
         "type": "integer"
        }
       ],
       "ref": "7e96ab77-5964-4579-bb6f-fa654f63f5cd",
       "rows": [
        [
         "school",
         "0"
        ],
        [
         "sex",
         "0"
        ],
        [
         "age",
         "0"
        ],
        [
         "address",
         "0"
        ],
        [
         "famsize",
         "0"
        ],
        [
         "Pstatus",
         "0"
        ],
        [
         "Medu",
         "0"
        ],
        [
         "Fedu",
         "0"
        ],
        [
         "Mjob",
         "0"
        ],
        [
         "Fjob",
         "0"
        ],
        [
         "reason",
         "0"
        ],
        [
         "guardian",
         "0"
        ],
        [
         "traveltime",
         "0"
        ],
        [
         "studytime",
         "0"
        ],
        [
         "failures",
         "0"
        ],
        [
         "schoolsup",
         "0"
        ],
        [
         "famsup",
         "0"
        ],
        [
         "paid",
         "0"
        ],
        [
         "activities",
         "0"
        ],
        [
         "nursery",
         "0"
        ],
        [
         "higher",
         "0"
        ],
        [
         "internet",
         "0"
        ],
        [
         "romantic",
         "0"
        ],
        [
         "famrel",
         "0"
        ],
        [
         "freetime",
         "0"
        ],
        [
         "goout",
         "0"
        ],
        [
         "Dalc",
         "0"
        ],
        [
         "Walc",
         "0"
        ],
        [
         "health",
         "0"
        ],
        [
         "absences",
         "0"
        ],
        [
         "G1",
         "0"
        ],
        [
         "G2",
         "0"
        ],
        [
         "G3",
         "0"
        ]
       ],
       "shape": {
        "columns": 1,
        "rows": 33
       }
      },
      "text/plain": [
       "school        0\n",
       "sex           0\n",
       "age           0\n",
       "address       0\n",
       "famsize       0\n",
       "Pstatus       0\n",
       "Medu          0\n",
       "Fedu          0\n",
       "Mjob          0\n",
       "Fjob          0\n",
       "reason        0\n",
       "guardian      0\n",
       "traveltime    0\n",
       "studytime     0\n",
       "failures      0\n",
       "schoolsup     0\n",
       "famsup        0\n",
       "paid          0\n",
       "activities    0\n",
       "nursery       0\n",
       "higher        0\n",
       "internet      0\n",
       "romantic      0\n",
       "famrel        0\n",
       "freetime      0\n",
       "goout         0\n",
       "Dalc          0\n",
       "Walc          0\n",
       "health        0\n",
       "absences      0\n",
       "G1            0\n",
       "G2            0\n",
       "G3            0\n",
       "dtype: int64"
      ]
     },
     "execution_count": 50,
     "metadata": {},
     "output_type": "execute_result"
    }
   ],
   "source": [
    "df.isnull().sum()"
   ]
  },
  {
   "cell_type": "code",
   "execution_count": 51,
   "id": "e168192c",
   "metadata": {},
   "outputs": [
    {
     "name": "stdout",
     "output_type": "stream",
     "text": [
      "🔹 Duplicate rows: 0\n",
      "\n"
     ]
    }
   ],
   "source": [
    "#  Detect duplicates\n",
    "duplicates = df.duplicated().sum()\n",
    "print(f\"🔹 Duplicate rows: {duplicates}\\n\")\n"
   ]
  },
  {
   "cell_type": "code",
   "execution_count": 52,
   "id": "21630c1b",
   "metadata": {},
   "outputs": [
    {
     "data": {
      "application/vnd.microsoft.datawrangler.viewer.v0+json": {
       "columns": [
        {
         "name": "index",
         "rawType": "object",
         "type": "string"
        },
        {
         "name": "school",
         "rawType": "object",
         "type": "unknown"
        },
        {
         "name": "sex",
         "rawType": "object",
         "type": "unknown"
        },
        {
         "name": "age",
         "rawType": "float64",
         "type": "float"
        },
        {
         "name": "address",
         "rawType": "object",
         "type": "unknown"
        },
        {
         "name": "famsize",
         "rawType": "object",
         "type": "unknown"
        },
        {
         "name": "Pstatus",
         "rawType": "object",
         "type": "unknown"
        },
        {
         "name": "Medu",
         "rawType": "float64",
         "type": "float"
        },
        {
         "name": "Fedu",
         "rawType": "float64",
         "type": "float"
        },
        {
         "name": "Mjob",
         "rawType": "object",
         "type": "unknown"
        },
        {
         "name": "Fjob",
         "rawType": "object",
         "type": "unknown"
        },
        {
         "name": "reason",
         "rawType": "object",
         "type": "unknown"
        },
        {
         "name": "guardian",
         "rawType": "object",
         "type": "unknown"
        },
        {
         "name": "traveltime",
         "rawType": "float64",
         "type": "float"
        },
        {
         "name": "studytime",
         "rawType": "float64",
         "type": "float"
        },
        {
         "name": "failures",
         "rawType": "float64",
         "type": "float"
        },
        {
         "name": "schoolsup",
         "rawType": "object",
         "type": "unknown"
        },
        {
         "name": "famsup",
         "rawType": "object",
         "type": "unknown"
        },
        {
         "name": "paid",
         "rawType": "object",
         "type": "unknown"
        },
        {
         "name": "activities",
         "rawType": "object",
         "type": "unknown"
        },
        {
         "name": "nursery",
         "rawType": "object",
         "type": "unknown"
        },
        {
         "name": "higher",
         "rawType": "object",
         "type": "unknown"
        },
        {
         "name": "internet",
         "rawType": "object",
         "type": "unknown"
        },
        {
         "name": "romantic",
         "rawType": "object",
         "type": "unknown"
        },
        {
         "name": "famrel",
         "rawType": "float64",
         "type": "float"
        },
        {
         "name": "freetime",
         "rawType": "float64",
         "type": "float"
        },
        {
         "name": "goout",
         "rawType": "float64",
         "type": "float"
        },
        {
         "name": "Dalc",
         "rawType": "float64",
         "type": "float"
        },
        {
         "name": "Walc",
         "rawType": "float64",
         "type": "float"
        },
        {
         "name": "health",
         "rawType": "float64",
         "type": "float"
        },
        {
         "name": "absences",
         "rawType": "float64",
         "type": "float"
        },
        {
         "name": "G1",
         "rawType": "float64",
         "type": "float"
        },
        {
         "name": "G2",
         "rawType": "float64",
         "type": "float"
        },
        {
         "name": "G3",
         "rawType": "float64",
         "type": "float"
        }
       ],
       "ref": "b7d42872-be3b-42d3-a11f-ceb3cec8a0ac",
       "rows": [
        [
         "count",
         "649",
         "649",
         "649.0",
         "649",
         "649",
         "649",
         "649.0",
         "649.0",
         "649",
         "649",
         "649",
         "649",
         "649.0",
         "649.0",
         "649.0",
         "649",
         "649",
         "649",
         "649",
         "649",
         "649",
         "649",
         "649",
         "649.0",
         "649.0",
         "649.0",
         "649.0",
         "649.0",
         "649.0",
         "649.0",
         "649.0",
         "649.0",
         "649.0"
        ],
        [
         "unique",
         "2",
         "2",
         null,
         "2",
         "2",
         "2",
         null,
         null,
         "5",
         "5",
         "4",
         "3",
         null,
         null,
         null,
         "2",
         "2",
         "2",
         "2",
         "2",
         "2",
         "2",
         "2",
         null,
         null,
         null,
         null,
         null,
         null,
         null,
         null,
         null,
         null
        ],
        [
         "top",
         "GP",
         "F",
         null,
         "U",
         "GT3",
         "T",
         null,
         null,
         "other",
         "other",
         "course",
         "mother",
         null,
         null,
         null,
         "no",
         "yes",
         "no",
         "no",
         "yes",
         "yes",
         "yes",
         "no",
         null,
         null,
         null,
         null,
         null,
         null,
         null,
         null,
         null,
         null
        ],
        [
         "freq",
         "423",
         "383",
         null,
         "452",
         "457",
         "569",
         null,
         null,
         "258",
         "367",
         "285",
         "455",
         null,
         null,
         null,
         "581",
         "398",
         "610",
         "334",
         "521",
         "580",
         "498",
         "410",
         null,
         null,
         null,
         null,
         null,
         null,
         null,
         null,
         null,
         null
        ],
        [
         "mean",
         null,
         null,
         "16.7442218798151",
         null,
         null,
         null,
         "2.514637904468413",
         "2.3066255778120186",
         null,
         null,
         null,
         null,
         "1.568567026194145",
         "1.9306625577812018",
         "0.2218798151001541",
         null,
         null,
         null,
         null,
         null,
         null,
         null,
         null,
         "3.930662557781202",
         "3.180277349768875",
         "3.184899845916795",
         "1.50231124807396",
         "2.280431432973806",
         "3.536209553158706",
         "3.6594761171032357",
         "11.399075500770415",
         "11.570107858243452",
         "11.906009244992296"
        ],
        [
         "std",
         null,
         null,
         "1.2181376394800656",
         null,
         null,
         null,
         "1.134551999953317",
         "1.099930911140803",
         null,
         null,
         null,
         null,
         "0.7486600863534161",
         "0.829509574636615",
         "0.5932351492649627",
         null,
         null,
         null,
         null,
         null,
         null,
         null,
         null,
         "0.9557168913381863",
         "1.051092575357063",
         "1.175766113842312",
         "0.9248344305673268",
         "1.2843799719490245",
         "1.4462590500910701",
         "4.640758808397153",
         "2.745265128446372",
         "2.913638664303867",
         "3.230656242804805"
        ],
        [
         "min",
         null,
         null,
         "15.0",
         null,
         null,
         null,
         "0.0",
         "0.0",
         null,
         null,
         null,
         null,
         "1.0",
         "1.0",
         "0.0",
         null,
         null,
         null,
         null,
         null,
         null,
         null,
         null,
         "1.0",
         "1.0",
         "1.0",
         "1.0",
         "1.0",
         "1.0",
         "0.0",
         "0.0",
         "0.0",
         "0.0"
        ],
        [
         "25%",
         null,
         null,
         "16.0",
         null,
         null,
         null,
         "2.0",
         "1.0",
         null,
         null,
         null,
         null,
         "1.0",
         "1.0",
         "0.0",
         null,
         null,
         null,
         null,
         null,
         null,
         null,
         null,
         "4.0",
         "3.0",
         "2.0",
         "1.0",
         "1.0",
         "2.0",
         "0.0",
         "10.0",
         "10.0",
         "10.0"
        ],
        [
         "50%",
         null,
         null,
         "17.0",
         null,
         null,
         null,
         "2.0",
         "2.0",
         null,
         null,
         null,
         null,
         "1.0",
         "2.0",
         "0.0",
         null,
         null,
         null,
         null,
         null,
         null,
         null,
         null,
         "4.0",
         "3.0",
         "3.0",
         "1.0",
         "2.0",
         "4.0",
         "2.0",
         "11.0",
         "11.0",
         "12.0"
        ],
        [
         "75%",
         null,
         null,
         "18.0",
         null,
         null,
         null,
         "4.0",
         "3.0",
         null,
         null,
         null,
         null,
         "2.0",
         "2.0",
         "0.0",
         null,
         null,
         null,
         null,
         null,
         null,
         null,
         null,
         "5.0",
         "4.0",
         "4.0",
         "2.0",
         "3.0",
         "5.0",
         "6.0",
         "13.0",
         "13.0",
         "14.0"
        ],
        [
         "max",
         null,
         null,
         "22.0",
         null,
         null,
         null,
         "4.0",
         "4.0",
         null,
         null,
         null,
         null,
         "4.0",
         "4.0",
         "3.0",
         null,
         null,
         null,
         null,
         null,
         null,
         null,
         null,
         "5.0",
         "5.0",
         "5.0",
         "5.0",
         "5.0",
         "5.0",
         "32.0",
         "19.0",
         "19.0",
         "19.0"
        ]
       ],
       "shape": {
        "columns": 33,
        "rows": 11
       }
      },
      "text/html": [
       "<div>\n",
       "<style scoped>\n",
       "    .dataframe tbody tr th:only-of-type {\n",
       "        vertical-align: middle;\n",
       "    }\n",
       "\n",
       "    .dataframe tbody tr th {\n",
       "        vertical-align: top;\n",
       "    }\n",
       "\n",
       "    .dataframe thead th {\n",
       "        text-align: right;\n",
       "    }\n",
       "</style>\n",
       "<table border=\"1\" class=\"dataframe\">\n",
       "  <thead>\n",
       "    <tr style=\"text-align: right;\">\n",
       "      <th></th>\n",
       "      <th>school</th>\n",
       "      <th>sex</th>\n",
       "      <th>age</th>\n",
       "      <th>address</th>\n",
       "      <th>famsize</th>\n",
       "      <th>Pstatus</th>\n",
       "      <th>Medu</th>\n",
       "      <th>Fedu</th>\n",
       "      <th>Mjob</th>\n",
       "      <th>Fjob</th>\n",
       "      <th>...</th>\n",
       "      <th>famrel</th>\n",
       "      <th>freetime</th>\n",
       "      <th>goout</th>\n",
       "      <th>Dalc</th>\n",
       "      <th>Walc</th>\n",
       "      <th>health</th>\n",
       "      <th>absences</th>\n",
       "      <th>G1</th>\n",
       "      <th>G2</th>\n",
       "      <th>G3</th>\n",
       "    </tr>\n",
       "  </thead>\n",
       "  <tbody>\n",
       "    <tr>\n",
       "      <th>count</th>\n",
       "      <td>649</td>\n",
       "      <td>649</td>\n",
       "      <td>649.000000</td>\n",
       "      <td>649</td>\n",
       "      <td>649</td>\n",
       "      <td>649</td>\n",
       "      <td>649.000000</td>\n",
       "      <td>649.000000</td>\n",
       "      <td>649</td>\n",
       "      <td>649</td>\n",
       "      <td>...</td>\n",
       "      <td>649.000000</td>\n",
       "      <td>649.000000</td>\n",
       "      <td>649.000000</td>\n",
       "      <td>649.000000</td>\n",
       "      <td>649.000000</td>\n",
       "      <td>649.000000</td>\n",
       "      <td>649.000000</td>\n",
       "      <td>649.000000</td>\n",
       "      <td>649.000000</td>\n",
       "      <td>649.000000</td>\n",
       "    </tr>\n",
       "    <tr>\n",
       "      <th>unique</th>\n",
       "      <td>2</td>\n",
       "      <td>2</td>\n",
       "      <td>NaN</td>\n",
       "      <td>2</td>\n",
       "      <td>2</td>\n",
       "      <td>2</td>\n",
       "      <td>NaN</td>\n",
       "      <td>NaN</td>\n",
       "      <td>5</td>\n",
       "      <td>5</td>\n",
       "      <td>...</td>\n",
       "      <td>NaN</td>\n",
       "      <td>NaN</td>\n",
       "      <td>NaN</td>\n",
       "      <td>NaN</td>\n",
       "      <td>NaN</td>\n",
       "      <td>NaN</td>\n",
       "      <td>NaN</td>\n",
       "      <td>NaN</td>\n",
       "      <td>NaN</td>\n",
       "      <td>NaN</td>\n",
       "    </tr>\n",
       "    <tr>\n",
       "      <th>top</th>\n",
       "      <td>GP</td>\n",
       "      <td>F</td>\n",
       "      <td>NaN</td>\n",
       "      <td>U</td>\n",
       "      <td>GT3</td>\n",
       "      <td>T</td>\n",
       "      <td>NaN</td>\n",
       "      <td>NaN</td>\n",
       "      <td>other</td>\n",
       "      <td>other</td>\n",
       "      <td>...</td>\n",
       "      <td>NaN</td>\n",
       "      <td>NaN</td>\n",
       "      <td>NaN</td>\n",
       "      <td>NaN</td>\n",
       "      <td>NaN</td>\n",
       "      <td>NaN</td>\n",
       "      <td>NaN</td>\n",
       "      <td>NaN</td>\n",
       "      <td>NaN</td>\n",
       "      <td>NaN</td>\n",
       "    </tr>\n",
       "    <tr>\n",
       "      <th>freq</th>\n",
       "      <td>423</td>\n",
       "      <td>383</td>\n",
       "      <td>NaN</td>\n",
       "      <td>452</td>\n",
       "      <td>457</td>\n",
       "      <td>569</td>\n",
       "      <td>NaN</td>\n",
       "      <td>NaN</td>\n",
       "      <td>258</td>\n",
       "      <td>367</td>\n",
       "      <td>...</td>\n",
       "      <td>NaN</td>\n",
       "      <td>NaN</td>\n",
       "      <td>NaN</td>\n",
       "      <td>NaN</td>\n",
       "      <td>NaN</td>\n",
       "      <td>NaN</td>\n",
       "      <td>NaN</td>\n",
       "      <td>NaN</td>\n",
       "      <td>NaN</td>\n",
       "      <td>NaN</td>\n",
       "    </tr>\n",
       "    <tr>\n",
       "      <th>mean</th>\n",
       "      <td>NaN</td>\n",
       "      <td>NaN</td>\n",
       "      <td>16.744222</td>\n",
       "      <td>NaN</td>\n",
       "      <td>NaN</td>\n",
       "      <td>NaN</td>\n",
       "      <td>2.514638</td>\n",
       "      <td>2.306626</td>\n",
       "      <td>NaN</td>\n",
       "      <td>NaN</td>\n",
       "      <td>...</td>\n",
       "      <td>3.930663</td>\n",
       "      <td>3.180277</td>\n",
       "      <td>3.184900</td>\n",
       "      <td>1.502311</td>\n",
       "      <td>2.280431</td>\n",
       "      <td>3.536210</td>\n",
       "      <td>3.659476</td>\n",
       "      <td>11.399076</td>\n",
       "      <td>11.570108</td>\n",
       "      <td>11.906009</td>\n",
       "    </tr>\n",
       "    <tr>\n",
       "      <th>std</th>\n",
       "      <td>NaN</td>\n",
       "      <td>NaN</td>\n",
       "      <td>1.218138</td>\n",
       "      <td>NaN</td>\n",
       "      <td>NaN</td>\n",
       "      <td>NaN</td>\n",
       "      <td>1.134552</td>\n",
       "      <td>1.099931</td>\n",
       "      <td>NaN</td>\n",
       "      <td>NaN</td>\n",
       "      <td>...</td>\n",
       "      <td>0.955717</td>\n",
       "      <td>1.051093</td>\n",
       "      <td>1.175766</td>\n",
       "      <td>0.924834</td>\n",
       "      <td>1.284380</td>\n",
       "      <td>1.446259</td>\n",
       "      <td>4.640759</td>\n",
       "      <td>2.745265</td>\n",
       "      <td>2.913639</td>\n",
       "      <td>3.230656</td>\n",
       "    </tr>\n",
       "    <tr>\n",
       "      <th>min</th>\n",
       "      <td>NaN</td>\n",
       "      <td>NaN</td>\n",
       "      <td>15.000000</td>\n",
       "      <td>NaN</td>\n",
       "      <td>NaN</td>\n",
       "      <td>NaN</td>\n",
       "      <td>0.000000</td>\n",
       "      <td>0.000000</td>\n",
       "      <td>NaN</td>\n",
       "      <td>NaN</td>\n",
       "      <td>...</td>\n",
       "      <td>1.000000</td>\n",
       "      <td>1.000000</td>\n",
       "      <td>1.000000</td>\n",
       "      <td>1.000000</td>\n",
       "      <td>1.000000</td>\n",
       "      <td>1.000000</td>\n",
       "      <td>0.000000</td>\n",
       "      <td>0.000000</td>\n",
       "      <td>0.000000</td>\n",
       "      <td>0.000000</td>\n",
       "    </tr>\n",
       "    <tr>\n",
       "      <th>25%</th>\n",
       "      <td>NaN</td>\n",
       "      <td>NaN</td>\n",
       "      <td>16.000000</td>\n",
       "      <td>NaN</td>\n",
       "      <td>NaN</td>\n",
       "      <td>NaN</td>\n",
       "      <td>2.000000</td>\n",
       "      <td>1.000000</td>\n",
       "      <td>NaN</td>\n",
       "      <td>NaN</td>\n",
       "      <td>...</td>\n",
       "      <td>4.000000</td>\n",
       "      <td>3.000000</td>\n",
       "      <td>2.000000</td>\n",
       "      <td>1.000000</td>\n",
       "      <td>1.000000</td>\n",
       "      <td>2.000000</td>\n",
       "      <td>0.000000</td>\n",
       "      <td>10.000000</td>\n",
       "      <td>10.000000</td>\n",
       "      <td>10.000000</td>\n",
       "    </tr>\n",
       "    <tr>\n",
       "      <th>50%</th>\n",
       "      <td>NaN</td>\n",
       "      <td>NaN</td>\n",
       "      <td>17.000000</td>\n",
       "      <td>NaN</td>\n",
       "      <td>NaN</td>\n",
       "      <td>NaN</td>\n",
       "      <td>2.000000</td>\n",
       "      <td>2.000000</td>\n",
       "      <td>NaN</td>\n",
       "      <td>NaN</td>\n",
       "      <td>...</td>\n",
       "      <td>4.000000</td>\n",
       "      <td>3.000000</td>\n",
       "      <td>3.000000</td>\n",
       "      <td>1.000000</td>\n",
       "      <td>2.000000</td>\n",
       "      <td>4.000000</td>\n",
       "      <td>2.000000</td>\n",
       "      <td>11.000000</td>\n",
       "      <td>11.000000</td>\n",
       "      <td>12.000000</td>\n",
       "    </tr>\n",
       "    <tr>\n",
       "      <th>75%</th>\n",
       "      <td>NaN</td>\n",
       "      <td>NaN</td>\n",
       "      <td>18.000000</td>\n",
       "      <td>NaN</td>\n",
       "      <td>NaN</td>\n",
       "      <td>NaN</td>\n",
       "      <td>4.000000</td>\n",
       "      <td>3.000000</td>\n",
       "      <td>NaN</td>\n",
       "      <td>NaN</td>\n",
       "      <td>...</td>\n",
       "      <td>5.000000</td>\n",
       "      <td>4.000000</td>\n",
       "      <td>4.000000</td>\n",
       "      <td>2.000000</td>\n",
       "      <td>3.000000</td>\n",
       "      <td>5.000000</td>\n",
       "      <td>6.000000</td>\n",
       "      <td>13.000000</td>\n",
       "      <td>13.000000</td>\n",
       "      <td>14.000000</td>\n",
       "    </tr>\n",
       "    <tr>\n",
       "      <th>max</th>\n",
       "      <td>NaN</td>\n",
       "      <td>NaN</td>\n",
       "      <td>22.000000</td>\n",
       "      <td>NaN</td>\n",
       "      <td>NaN</td>\n",
       "      <td>NaN</td>\n",
       "      <td>4.000000</td>\n",
       "      <td>4.000000</td>\n",
       "      <td>NaN</td>\n",
       "      <td>NaN</td>\n",
       "      <td>...</td>\n",
       "      <td>5.000000</td>\n",
       "      <td>5.000000</td>\n",
       "      <td>5.000000</td>\n",
       "      <td>5.000000</td>\n",
       "      <td>5.000000</td>\n",
       "      <td>5.000000</td>\n",
       "      <td>32.000000</td>\n",
       "      <td>19.000000</td>\n",
       "      <td>19.000000</td>\n",
       "      <td>19.000000</td>\n",
       "    </tr>\n",
       "  </tbody>\n",
       "</table>\n",
       "<p>11 rows × 33 columns</p>\n",
       "</div>"
      ],
      "text/plain": [
       "       school  sex         age address famsize Pstatus        Medu  \\\n",
       "count     649  649  649.000000     649     649     649  649.000000   \n",
       "unique      2    2         NaN       2       2       2         NaN   \n",
       "top        GP    F         NaN       U     GT3       T         NaN   \n",
       "freq      423  383         NaN     452     457     569         NaN   \n",
       "mean      NaN  NaN   16.744222     NaN     NaN     NaN    2.514638   \n",
       "std       NaN  NaN    1.218138     NaN     NaN     NaN    1.134552   \n",
       "min       NaN  NaN   15.000000     NaN     NaN     NaN    0.000000   \n",
       "25%       NaN  NaN   16.000000     NaN     NaN     NaN    2.000000   \n",
       "50%       NaN  NaN   17.000000     NaN     NaN     NaN    2.000000   \n",
       "75%       NaN  NaN   18.000000     NaN     NaN     NaN    4.000000   \n",
       "max       NaN  NaN   22.000000     NaN     NaN     NaN    4.000000   \n",
       "\n",
       "              Fedu   Mjob   Fjob  ...      famrel    freetime       goout  \\\n",
       "count   649.000000    649    649  ...  649.000000  649.000000  649.000000   \n",
       "unique         NaN      5      5  ...         NaN         NaN         NaN   \n",
       "top            NaN  other  other  ...         NaN         NaN         NaN   \n",
       "freq           NaN    258    367  ...         NaN         NaN         NaN   \n",
       "mean      2.306626    NaN    NaN  ...    3.930663    3.180277    3.184900   \n",
       "std       1.099931    NaN    NaN  ...    0.955717    1.051093    1.175766   \n",
       "min       0.000000    NaN    NaN  ...    1.000000    1.000000    1.000000   \n",
       "25%       1.000000    NaN    NaN  ...    4.000000    3.000000    2.000000   \n",
       "50%       2.000000    NaN    NaN  ...    4.000000    3.000000    3.000000   \n",
       "75%       3.000000    NaN    NaN  ...    5.000000    4.000000    4.000000   \n",
       "max       4.000000    NaN    NaN  ...    5.000000    5.000000    5.000000   \n",
       "\n",
       "              Dalc        Walc      health    absences          G1  \\\n",
       "count   649.000000  649.000000  649.000000  649.000000  649.000000   \n",
       "unique         NaN         NaN         NaN         NaN         NaN   \n",
       "top            NaN         NaN         NaN         NaN         NaN   \n",
       "freq           NaN         NaN         NaN         NaN         NaN   \n",
       "mean      1.502311    2.280431    3.536210    3.659476   11.399076   \n",
       "std       0.924834    1.284380    1.446259    4.640759    2.745265   \n",
       "min       1.000000    1.000000    1.000000    0.000000    0.000000   \n",
       "25%       1.000000    1.000000    2.000000    0.000000   10.000000   \n",
       "50%       1.000000    2.000000    4.000000    2.000000   11.000000   \n",
       "75%       2.000000    3.000000    5.000000    6.000000   13.000000   \n",
       "max       5.000000    5.000000    5.000000   32.000000   19.000000   \n",
       "\n",
       "                G2          G3  \n",
       "count   649.000000  649.000000  \n",
       "unique         NaN         NaN  \n",
       "top            NaN         NaN  \n",
       "freq           NaN         NaN  \n",
       "mean     11.570108   11.906009  \n",
       "std       2.913639    3.230656  \n",
       "min       0.000000    0.000000  \n",
       "25%      10.000000   10.000000  \n",
       "50%      11.000000   12.000000  \n",
       "75%      13.000000   14.000000  \n",
       "max      19.000000   19.000000  \n",
       "\n",
       "[11 rows x 33 columns]"
      ]
     },
     "execution_count": 52,
     "metadata": {},
     "output_type": "execute_result"
    }
   ],
   "source": [
    "# Summary statistics\n",
    "df.describe(include='all')"
   ]
  },
  {
   "cell_type": "markdown",
   "id": "f039186b",
   "metadata": {},
   "source": [
    "## Basic visualizations"
   ]
  },
  {
   "cell_type": "code",
   "execution_count": 53,
   "id": "74e7fb37",
   "metadata": {},
   "outputs": [
    {
     "data": {
      "image/png": "[encoded data removed]",
      "text/plain": [
       "<Figure size 600x400 with 1 Axes>"
      ]
     },
     "metadata": {},
     "output_type": "display_data"
    }
   ],
   "source": [
    "\n",
    "# Convert categorical yes/no to 1/0\n",
    "binary_cols = ['schoolsup', 'famsup', 'paid', 'activities', \n",
    "               'nursery', 'higher', 'internet', 'romantic']\n",
    "\n",
    "for col in binary_cols:\n",
    "    df[col] = df[col].map({'yes': 1, 'no': 0})\n",
    "\n",
    "\n",
    "# Distribution of final grades\n",
    "plt.figure(figsize=(6,4))\n",
    "sns.histplot(df['G3'], bins=10, kde=True)\n",
    "plt.title(\"Distribution of Final Grades (G3)\")\n",
    "plt.show()\n"
   ]
  },
  {
   "cell_type": "code",
   "execution_count": 54,
   "id": "767d1ee0",
   "metadata": {},
   "outputs": [
    {
     "data": {
      "image/png": "[encoded data removed]",
      "text/plain": [
       "<Figure size 1000x800 with 2 Axes>"
      ]
     },
     "metadata": {},
     "output_type": "display_data"
    }
   ],
   "source": [
    "# Correlation heatmap numerical\n",
    "plt.figure(figsize=(10,8))\n",
    "sns.heatmap(df.corr(numeric_only=True), cmap='coolwarm', annot=False)\n",
    "plt.title(\"Correlation Heatmap\")\n",
    "plt.show()\n"
   ]
  },
  {
   "cell_type": "code",
   "execution_count": 55,
   "id": "f14b45dc",
   "metadata": {},
   "outputs": [
    {
     "name": "stdout",
     "output_type": "stream",
     "text": [
      "🔹 Correlation with Final Grade (G3):\n",
      "G3            1.000000\n",
      "G2            0.918548\n",
      "G1            0.826387\n",
      "higher        0.332172\n",
      "studytime     0.249789\n",
      "Medu          0.240151\n",
      "Fedu          0.211800\n",
      "internet      0.150025\n",
      "famrel        0.063361\n",
      "activities    0.059791\n",
      "famsup        0.059206\n",
      "nursery       0.028752\n",
      "paid         -0.054898\n",
      "schoolsup    -0.066405\n",
      "goout        -0.087641\n",
      "romantic     -0.090583\n",
      "absences     -0.091379\n",
      "health       -0.098851\n",
      "age          -0.106505\n",
      "freetime     -0.122705\n",
      "traveltime   -0.127173\n",
      "Walc         -0.176619\n",
      "Dalc         -0.204719\n",
      "failures     -0.393316\n",
      "Name: G3, dtype: float64\n"
     ]
    }
   ],
   "source": [
    "\n",
    "# Check feature importance correlations with G3\n",
    "corr_with_g3 = df.corr(numeric_only=True)['G3'].sort_values(ascending=False)\n",
    "print(\"🔹 Correlation with Final Grade (G3):\")\n",
    "print(corr_with_g3)"
   ]
  },
  {
   "cell_type": "code",
   "execution_count": 56,
   "id": "40f8a313",
   "metadata": {},
   "outputs": [
    {
     "data": {
      "image/png": "[encoded data removed]",
      "text/plain": [
       "<Figure size 600x400 with 1 Axes>"
      ]
     },
     "metadata": {},
     "output_type": "display_data"
    }
   ],
   "source": [
    "\n",
    "# Relationship between studytime and final grade\n",
    "plt.figure(figsize=(6,4))\n",
    "sns.boxplot(x='studytime', y='G3', data=df)\n",
    "plt.title(\"Study Time vs Final Grade\")\n",
    "plt.show()\n"
   ]
  },
  {
   "cell_type": "code",
   "execution_count": 57,
   "id": "2bf26867",
   "metadata": {},
   "outputs": [
    {
     "name": "stdout",
     "output_type": "stream",
     "text": [
      "Number of students: 649\n",
      "Number of features: 33\n"
     ]
    }
   ],
   "source": [
    "\n",
    "print(\"Number of students:\", len(df))\n",
    "print(\"Number of features:\", len(df.columns))\n"
   ]
  },
  {
   "cell_type": "code",
   "execution_count": 58,
   "id": "341c67c9",
   "metadata": {},
   "outputs": [
    {
     "data": {
      "image/png": "[encoded data removed]",
      "text/plain": [
       "<Figure size 600x400 with 1 Axes>"
      ]
     },
     "metadata": {},
     "output_type": "display_data"
    }
   ],
   "source": [
    "# Distribution by gender and school\n",
    "\n",
    "plt.figure(figsize=(6,4))\n",
    "sns.countplot(x='sex', hue='school', data=df)\n",
    "plt.title(\"Students Distribution by Gender and School\")\n",
    "plt.show()\n"
   ]
  },
  {
   "cell_type": "code",
   "execution_count": 59,
   "id": "f999193e",
   "metadata": {},
   "outputs": [
    {
     "name": "stdout",
     "output_type": "stream",
     "text": [
      "Average of G1, G2, G3:\n",
      "G1    11.399076\n",
      "G2    11.570108\n",
      "G3    11.906009\n",
      "dtype: float64\n"
     ]
    },
    {
     "data": {
      "image/png": "[encoded data removed]",
      "text/plain": [
       "<Figure size 600x400 with 1 Axes>"
      ]
     },
     "metadata": {},
     "output_type": "display_data"
    }
   ],
   "source": [
    "\n",
    "# Average grades (G1, G2, G3)\n",
    "\n",
    "print(\"Average of G1, G2, G3:\")\n",
    "print(df[['G1','G2','G3']].mean())\n",
    "\n",
    "plt.figure(figsize=(6,4))\n",
    "sns.boxplot(data=df[['G1','G2','G3']])\n",
    "plt.title(\"Distribution of Grades (G1, G2, G3)\")\n",
    "plt.show()\n"
   ]
  },
  {
   "cell_type": "code",
   "execution_count": 60,
   "id": "3cf4cef9",
   "metadata": {},
   "outputs": [
    {
     "data": {
      "image/png": "[encoded data removed]",
      "text/plain": [
       "<Figure size 600x400 with 1 Axes>"
      ]
     },
     "metadata": {},
     "output_type": "display_data"
    }
   ],
   "source": [
    "# Compare performance by address (Urban/Rural) and gender\n",
    "\n",
    "plt.figure(figsize=(6,4))\n",
    "sns.boxplot(x='address', y='G3', hue='sex', data=df)\n",
    "plt.title(\"Performance by Address Type and Gender\")\n",
    "plt.show()"
   ]
  },
  {
   "cell_type": "markdown",
   "id": "858e7bcc",
   "metadata": {},
   "source": [
    "## 🎯 Classification - Predict Performance Level"
   ]
  },
  {
   "cell_type": "code",
   "execution_count": 61,
   "id": "bd55c6d3",
   "metadata": {},
   "outputs": [
    {
     "name": "stdout",
     "output_type": "stream",
     "text": [
      "🎯 Classification Report:\n",
      "              precision    recall  f1-score   support\n",
      "\n",
      "   Excellent       0.91      0.97      0.94        32\n",
      "        Good       0.92      0.87      0.89        83\n",
      "        Poor       0.56      0.67      0.61        15\n",
      "\n",
      "    accuracy                           0.87       130\n",
      "   macro avg       0.80      0.83      0.81       130\n",
      "weighted avg       0.88      0.87      0.87       130\n",
      "\n",
      "Accuracy: 0.8692307692307693\n"
     ]
    }
   ],
   "source": [
    "# Binary columns to numeric\n",
    "binary_cols = ['schoolsup', 'famsup', 'internet']\n",
    "for col in binary_cols:\n",
    "    df[col] = df[col].map({'yes': 1, 'no': 0})\n",
    "\n",
    "# Create performance level target\n",
    "def performance(g3):\n",
    "    if g3 >= 15:\n",
    "        return 'Excellent'\n",
    "    elif g3 >= 10:\n",
    "        return 'Good'\n",
    "    else:\n",
    "        return 'Poor'\n",
    "\n",
    "df['Performance'] = df['G3'].apply(performance)\n",
    "\n",
    "# Select features\n",
    "X = df[['studytime', 'failures', 'absences', 'schoolsup', 'famsup', 'internet', 'health', 'G1', 'G2']]\n",
    "y = df['Performance']\n",
    "\n",
    "# Split data\n",
    "X_train, X_test, y_train, y_test = train_test_split(X, y, test_size=0.2, random_state=42)\n",
    "\n",
    "# Train model\n",
    "clf = RandomForestClassifier(random_state=42)\n",
    "clf.fit(X_train, y_train)\n",
    "\n",
    "# Predict\n",
    "y_pred = clf.predict(X_test)\n",
    "\n",
    "# Evaluation\n",
    "print(\"🎯 Classification Report:\")\n",
    "print(classification_report(y_test, y_pred))\n",
    "print(\"Accuracy:\", accuracy_score(y_test, y_pred))\n"
   ]
  },
  {
   "cell_type": "markdown",
   "id": "7458e52a",
   "metadata": {},
   "source": [
    "## 📈 Regression - Predict Final Grade (G3)"
   ]
  },
  {
   "cell_type": "code",
   "execution_count": 62,
   "id": "81ae3392",
   "metadata": {},
   "outputs": [
    {
     "name": "stdout",
     "output_type": "stream",
     "text": [
      "\n",
      "📊 Regression Results:\n",
      "R² Score: 0.8438961677489252\n",
      "RMSE: 1.2338072114108252\n"
     ]
    }
   ],
   "source": [
    "# Select features\n",
    "X = df[['G1', 'G2', 'studytime', 'absences', 'failures', 'Dalc', 'Walc', 'health']]\n",
    "y = df['G3']\n",
    "\n",
    "# Split\n",
    "X_train, X_test, y_train, y_test = train_test_split(X, y, test_size=0.2, random_state=42)\n",
    "\n",
    "# Train model\n",
    "reg = RandomForestRegressor(random_state=42)\n",
    "reg.fit(X_train, y_train)\n",
    "\n",
    "# Predict\n",
    "y_pred = reg.predict(X_test)\n",
    "\n",
    "# Evaluation\n",
    "print(\"\\n📊 Regression Results:\")\n",
    "print(\"R² Score:\", r2_score(y_test, y_pred))\n",
    "print(\"RMSE:\", np.sqrt(mean_squared_error(y_test, y_pred)))\n"
   ]
  },
  {
   "cell_type": "markdown",
   "id": "c32305a5",
   "metadata": {},
   "source": [
    "## 🧩 Clustering - Group Students by Study Habits & Behavior\n"
   ]
  },
  {
   "cell_type": "code",
   "execution_count": 63,
   "id": "f097987e",
   "metadata": {},
   "outputs": [
    {
     "name": "stdout",
     "output_type": "stream",
     "text": [
      "\n",
      "🧩 Cluster Centers (Scaled):\n",
      "[[ 0.3022148  -0.28754298 -0.32948218 -0.32596863 -0.27053872  0.39500758]\n",
      " [-0.53241246  0.50656508  0.58044946  0.57425962  0.47660865 -0.6958857 ]]\n"
     ]
    },
    {
     "data": {
      "image/png": "[encoded data removed]",
      "text/plain": [
       "<Figure size 600x400 with 1 Axes>"
      ]
     },
     "metadata": {},
     "output_type": "display_data"
    },
    {
     "name": "stdout",
     "output_type": "stream",
     "text": [
      "\n",
      "🔹 Cluster Summary:\n",
      "         studytime  absences  failures     goout  freetime         G3\n",
      "Cluster                                                              \n",
      "0         2.181159  2.326087  0.026570  2.801932  2.896135  13.181159\n",
      "1         1.489362  6.008511  0.565957  3.859574  3.680851   9.659574\n"
     ]
    }
   ],
   "source": [
    "# Select features\n",
    "X = df[['studytime', 'absences', 'failures', 'goout', 'freetime', 'G3']]\n",
    "\n",
    "# Scale data\n",
    "scaler = StandardScaler()\n",
    "X_scaled = scaler.fit_transform(X)\n",
    "\n",
    "# Choose number of clusters (k=3)\n",
    "kmeans = KMeans(n_clusters=2, random_state=42)\n",
    "df['Cluster'] = kmeans.fit_predict(X_scaled)\n",
    "\n",
    "# Analyze clusters\n",
    "print(\"\\n🧩 Cluster Centers (Scaled):\")\n",
    "print(kmeans.cluster_centers_)\n",
    "\n",
    "# Visualize clusters by G3 and studytime\n",
    "plt.figure(figsize=(6,4))\n",
    "sns.scatterplot(x='studytime', y='G3', hue='Cluster', data=df, palette='Set2')\n",
    "plt.title(\"Clusters of Students by Studytime and Final Grade (G3)\")\n",
    "plt.show()\n",
    "\n",
    "# View average values per cluster\n",
    "print(\"\\n🔹 Cluster Summary:\")\n",
    "print(df.groupby('Cluster')[['studytime','absences','failures','goout','freetime','G3']].mean())\n"
   ]
  },
  {
   "cell_type": "markdown",
   "id": "a5ddcabf",
   "metadata": {},
   "source": [
    "## ⏳ Time Series Analysis - Student Performance Progress"
   ]
  },
  {
   "cell_type": "code",
   "execution_count": 64,
   "id": "9ab562f3",
   "metadata": {},
   "outputs": [
    {
     "data": {
      "image/png": "[encoded data removed]",
      "text/plain": [
       "<Figure size 600x400 with 1 Axes>"
      ]
     },
     "metadata": {},
     "output_type": "display_data"
    }
   ],
   "source": [
    "\n",
    "# Calculate average grade for each stage\n",
    "mean_grades = df[['G1', 'G2', 'G3']].mean()\n",
    "\n",
    "# Plot average progress\n",
    "plt.figure(figsize=(6,4))\n",
    "sns.lineplot(x=['G1','G2','G3'], y=mean_grades.values, marker='o')\n",
    "plt.title(\"Average Grade Progress (G1 → G3)\")\n",
    "plt.ylabel(\"Average Grade\")\n",
    "plt.xlabel(\"Stage\")\n",
    "plt.show()\n"
   ]
  },
  {
   "cell_type": "code",
   "execution_count": 65,
   "id": "5e8bf596",
   "metadata": {},
   "outputs": [
    {
     "data": {
      "image/png": "[encoded data removed]",
      "text/plain": [
       "<Figure size 800x400 with 1 Axes>"
      ]
     },
     "metadata": {},
     "output_type": "display_data"
    }
   ],
   "source": [
    "\n",
    "# Plot change per student (optional visualization)\n",
    "plt.figure(figsize=(8,4))\n",
    "for i in range(20):  # show first 20 students for clarity\n",
    "    plt.plot(['G1','G2','G3'], df.loc[i, ['G1','G2','G3']], alpha=0.5)\n",
    "plt.title(\"Grade Progress of Sample Students\")\n",
    "plt.ylabel(\"Grade\")\n",
    "plt.xlabel(\"Stage\")\n",
    "plt.show()\n",
    "\n"
   ]
  },
  {
   "cell_type": "code",
   "execution_count": 66,
   "id": "c0a38736",
   "metadata": {},
   "outputs": [
    {
     "name": "stdout",
     "output_type": "stream",
     "text": [
      "📈 Time Series Regression (G3 ~ G1 + G2):\n",
      "R² Score: 0.8477615336889918\n",
      "RMSE: 1.2595578069101419\n"
     ]
    }
   ],
   "source": [
    "\n",
    "X = df[['G1', 'G2']]\n",
    "y = df['G3']\n",
    "\n",
    "# Train a simple linear regression model\n",
    "model = LinearRegression()\n",
    "model.fit(X, y)\n",
    "y_pred = model.predict(X)\n",
    "\n",
    "# Evaluation\n",
    "print(\"📈 Time Series Regression (G3 ~ G1 + G2):\")\n",
    "print(\"R² Score:\", r2_score(y, y_pred))\n",
    "print(\"RMSE:\", np.sqrt(mean_squared_error(y, y_pred)))\n"
   ]
  },
  {
   "cell_type": "code",
   "execution_count": 67,
   "id": "9033bf36",
   "metadata": {},
   "outputs": [
    {
     "data": {
      "image/png": "[encoded data removed]",
      "text/plain": [
       "<Figure size 600x400 with 1 Axes>"
      ]
     },
     "metadata": {},
     "output_type": "display_data"
    }
   ],
   "source": [
    "\n",
    "# Compare actual vs predicted\n",
    "plt.figure(figsize=(6,4))\n",
    "sns.scatterplot(x=y, y=y_pred)\n",
    "plt.title(\"Actual vs Predicted Final Grades (G3)\")\n",
    "plt.xlabel(\"Actual G3\")\n",
    "plt.ylabel(\"Predicted G3\")\n",
    "plt.show()\n"
   ]
  },
  {
   "cell_type": "code",
   "execution_count": 68,
   "id": "8c4ef712",
   "metadata": {},
   "outputs": [
    {
     "name": "stdout",
     "output_type": "stream",
     "text": [
      "Intercept: -0.17128308798693404\n",
      "Coefficients for [G1, G2]: [0.14889649 0.89714029]\n"
     ]
    }
   ],
   "source": [
    "\n",
    "# Show model coefficients\n",
    "print(\"Intercept:\", model.intercept_)\n",
    "print(\"Coefficients for [G1, G2]:\", model.coef_)\n"
   ]
  }
 ],
 "metadata": {
  "kernelspec": {
   "display_name": "Python 3",
   "language": "python",
   "name": "python3"
  },
  "language_info": {
   "codemirror_mode": {
    "name": "ipython",
    "version": 3
   },
   "file_extension": ".py",
   "mimetype": "text/x-python",
   "name": "python",
   "nbconvert_exporter": "python",
   "pygments_lexer": "ipython3",
   "version": "3.13.5"
  }
 },
 "nbformat": 4,
 "nbformat_minor": 5
}
